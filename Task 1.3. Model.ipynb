{
 "cells": [
  {
   "cell_type": "code",
   "execution_count": 1,
   "metadata": {
    "_cell_guid": "b1076dfc-b9ad-4769-8c92-a6c4dae69d19",
    "_uuid": "8f2839f25d086af736a60e9eeb907d3b93b6e0e5",
    "tags": []
   },
   "outputs": [],
   "source": [
    "%load_ext autoreload\n",
    "%autoreload 2\n",
    "\n",
    "import numpy as np\n",
    "import pandas as pd\n",
    "from sklearn.model_selection import train_test_split\n",
    "from preprocess import PreprocessedDataFrame\n",
    "from category_encoders import TargetEncoder\n",
    "from sklearn.impute import SimpleImputer\n",
    "import matplotlib.pyplot as plt\n",
    "import seaborn as sns\n",
    "\n",
    "import warnings\n",
    "warnings.filterwarnings(\"ignore\", category=DeprecationWarning)\n",
    "warnings.filterwarnings(\"ignore\", category=UserWarning)\n",
    "warnings.filterwarnings(\"ignore\", category=FutureWarning)\n",
    "\n",
    "pd.set_option(\"display.max_rows\", None, \"display.max_columns\", None)"
   ]
  },
  {
   "cell_type": "code",
   "execution_count": 2,
   "metadata": {
    "tags": []
   },
   "outputs": [
    {
     "name": "stdout",
     "output_type": "stream",
     "text": [
      "Total data size: (16784, 29)\n",
      "Train: (13427, 29)\n",
      "Test: (3357, 29)\n"
     ]
    },
    {
     "data": {
      "text/html": [
       "<div>\n",
       "<style scoped>\n",
       "    .dataframe tbody tr th:only-of-type {\n",
       "        vertical-align: middle;\n",
       "    }\n",
       "\n",
       "    .dataframe tbody tr th {\n",
       "        vertical-align: top;\n",
       "    }\n",
       "\n",
       "    .dataframe thead th {\n",
       "        text-align: right;\n",
       "    }\n",
       "</style>\n",
       "<table border=\"1\" class=\"dataframe\">\n",
       "  <thead>\n",
       "    <tr style=\"text-align: right;\">\n",
       "      <th></th>\n",
       "      <th>listing_id</th>\n",
       "      <th>title</th>\n",
       "      <th>make</th>\n",
       "      <th>model</th>\n",
       "      <th>description</th>\n",
       "      <th>manufactured</th>\n",
       "      <th>original_reg_date</th>\n",
       "      <th>reg_date</th>\n",
       "      <th>type_of_vehicle</th>\n",
       "      <th>category</th>\n",
       "      <th>transmission</th>\n",
       "      <th>curb_weight</th>\n",
       "      <th>power</th>\n",
       "      <th>fuel_type</th>\n",
       "      <th>engine_cap</th>\n",
       "      <th>no_of_owners</th>\n",
       "      <th>depreciation</th>\n",
       "      <th>coe</th>\n",
       "      <th>road_tax</th>\n",
       "      <th>dereg_value</th>\n",
       "      <th>mileage</th>\n",
       "      <th>omv</th>\n",
       "      <th>arf</th>\n",
       "      <th>opc_scheme</th>\n",
       "      <th>lifespan</th>\n",
       "      <th>eco_category</th>\n",
       "      <th>features</th>\n",
       "      <th>accessories</th>\n",
       "      <th>indicative_price</th>\n",
       "    </tr>\n",
       "  </thead>\n",
       "  <tbody>\n",
       "    <tr>\n",
       "      <th>15946</th>\n",
       "      <td>1000462</td>\n",
       "      <td>Porsche Cayenne Hybrid S 3.0A</td>\n",
       "      <td>porsche</td>\n",
       "      <td>cayenne</td>\n",
       "      <td>10</td>\n",
       "      <td>2012.0</td>\n",
       "      <td>NaN</td>\n",
       "      <td>22-oct-2012</td>\n",
       "      <td>suv</td>\n",
       "      <td>parf car, direct owner sale, hybrid cars</td>\n",
       "      <td>auto</td>\n",
       "      <td>2315.0</td>\n",
       "      <td>245.0</td>\n",
       "      <td>petrol-electric</td>\n",
       "      <td>2995.0</td>\n",
       "      <td>4.0</td>\n",
       "      <td>67590.0</td>\n",
       "      <td>82289.0</td>\n",
       "      <td>2380.0</td>\n",
       "      <td>43327.0</td>\n",
       "      <td>125000.0</td>\n",
       "      <td>102465.0</td>\n",
       "      <td>61479.0</td>\n",
       "      <td>NaN</td>\n",
       "      <td>NaN</td>\n",
       "      <td>uncategorized</td>\n",
       "      <td>3.0l v6 supercharged/hybrid engine with 328bhp...</td>\n",
       "      <td>low mileage! 2 keys! keyless entry/start. bi-x...</td>\n",
       "      <td>NaN</td>\n",
       "    </tr>\n",
       "  </tbody>\n",
       "</table>\n",
       "</div>"
      ],
      "text/plain": [
       "       listing_id                          title     make    model  \\\n",
       "15946     1000462  Porsche Cayenne Hybrid S 3.0A  porsche  cayenne   \n",
       "\n",
       "      description  manufactured original_reg_date     reg_date  \\\n",
       "15946          10        2012.0               NaN  22-oct-2012   \n",
       "\n",
       "      type_of_vehicle                                  category transmission  \\\n",
       "15946             suv  parf car, direct owner sale, hybrid cars         auto   \n",
       "\n",
       "       curb_weight  power        fuel_type  engine_cap  no_of_owners  \\\n",
       "15946       2315.0  245.0  petrol-electric      2995.0           4.0   \n",
       "\n",
       "       depreciation      coe  road_tax  dereg_value   mileage       omv  \\\n",
       "15946       67590.0  82289.0    2380.0      43327.0  125000.0  102465.0   \n",
       "\n",
       "           arf opc_scheme lifespan   eco_category  \\\n",
       "15946  61479.0        NaN      NaN  uncategorized   \n",
       "\n",
       "                                                features  \\\n",
       "15946  3.0l v6 supercharged/hybrid engine with 328bhp...   \n",
       "\n",
       "                                             accessories  indicative_price  \n",
       "15946  low mileage! 2 keys! keyless entry/start. bi-x...               NaN  "
      ]
     },
     "execution_count": 2,
     "metadata": {},
     "output_type": "execute_result"
    }
   ],
   "source": [
    "FOLDER = ''\n",
    "X = pd.read_csv(FOLDER + 'train.csv')\n",
    "y= X.pop('price')\n",
    "print('Total data size:', X.shape)\n",
    "\n",
    "X_train, X_test, y_train, y_test = train_test_split(X, y, test_size=.2, random_state=42)\n",
    "print('Train:', X_train.shape)\n",
    "print('Test:', X_test.shape)\n",
    "\n",
    "X_train.head(1)"
   ]
  },
  {
   "cell_type": "markdown",
   "metadata": {},
   "source": [
    "## Preprocessing"
   ]
  },
  {
   "cell_type": "markdown",
   "metadata": {},
   "source": [
    "### Train data"
   ]
  },
  {
   "cell_type": "code",
   "execution_count": 3,
   "metadata": {},
   "outputs": [
    {
     "name": "stdout",
     "output_type": "stream",
     "text": [
      "Date: ['reg_date', 'manufactured', 'lifespan', 'original_reg_date']\n",
      "Num: ['curb_weight', 'engine_cap', 'power', 'road_tax', 'omv', 'mileage', 'arf', 'dereg_value', 'no_of_owners', 'indicative_price', 'depreciation', 'coe']\n",
      "OneHot Cat: ['title', 'make', 'model']\n",
      "Label Cat: ['description', 'accessories', 'transmission', 'category', 'fuel_type', 'opc_scheme', 'eco_category', 'listing_id', 'features']\n",
      "\n"
     ]
    }
   ],
   "source": [
    "preprocessed_df = PreprocessedDataFrame(X_train, y_train, target_encoding=True) # set target_encoding False to get one-hot encoding for make and model"
   ]
  },
  {
   "cell_type": "code",
   "execution_count": 4,
   "metadata": {},
   "outputs": [
    {
     "name": "stdout",
     "output_type": "stream",
     "text": [
      "Input shape: (13427, 29)\n",
      "Transformed shape: (13427, 43)\n"
     ]
    }
   ],
   "source": [
    "X_train_prepared = preprocessed_df.build_dataframe()"
   ]
  },
  {
   "cell_type": "code",
   "execution_count": 5,
   "metadata": {},
   "outputs": [],
   "source": [
    "model_target_encoder = TargetEncoder()\n",
    "X_train_prepared.loc[:, 'model'] = model_target_encoder.fit_transform(X_train_prepared.pop('model'), y=y_train)\n",
    "\n",
    "make_target_encoder = TargetEncoder()\n",
    "X_train_prepared.loc[:, 'make'] = make_target_encoder.fit_transform(X_train_prepared.pop('make'), y=y_train)\n",
    "\n",
    "imputer = SimpleImputer()\n",
    "X_train_prepared = imputer.fit_transform(X_train_prepared)"
   ]
  },
  {
   "cell_type": "markdown",
   "metadata": {},
   "source": [
    "### Test data"
   ]
  },
  {
   "cell_type": "code",
   "execution_count": 6,
   "metadata": {},
   "outputs": [
    {
     "name": "stdout",
     "output_type": "stream",
     "text": [
      "Input shape: (3357, 29)\n",
      "Transformed shape: (3357, 43)\n"
     ]
    }
   ],
   "source": [
    "X_test_prepared = preprocessed_df.transform_dataframe(X_test)\n",
    "X_test_prepared.loc[:, 'model'] = model_target_encoder.transform(X_test_prepared.pop('model'))\n",
    "X_test_prepared.loc[:, 'make'] = make_target_encoder.transform(X_test_prepared.pop('make'))\n",
    "X_test_prepared = imputer.transform(X_test_prepared)"
   ]
  },
  {
   "cell_type": "markdown",
   "metadata": {
    "tags": []
   },
   "source": [
    "## Model"
   ]
  },
  {
   "cell_type": "code",
   "execution_count": 7,
   "metadata": {
    "_cell_guid": "b1076dfc-b9ad-4769-8c92-a6c4dae69d19",
    "_uuid": "8f2839f25d086af736a60e9eeb907d3b93b6e0e5",
    "tags": []
   },
   "outputs": [],
   "source": [
    "from sklearn.linear_model import LinearRegression\n",
    "from sklearn.tree import DecisionTreeRegressor\n",
    "from sklearn.ensemble import RandomForestRegressor\n",
    "from sklearn.svm import SVR\n",
    "from sklearn.neural_network import MLPRegressor\n",
    "from xgboost import XGBRegressor\n",
    "from lightgbm import LGBMRegressor\n",
    "from catboost import CatBoostRegressor\n",
    "from sklearn.model_selection import GridSearchCV\n",
    "from sklearn.ensemble import StackingRegressor\n",
    "from sklearn.metrics import mean_squared_error\n",
    "from sklearn.model_selection import cross_val_score"
   ]
  },
  {
   "cell_type": "code",
   "execution_count": 8,
   "metadata": {
    "tags": []
   },
   "outputs": [],
   "source": [
    "def rmse(model, data, labels):\n",
    "    predictions = model.predict(data)\n",
    "    mse = mean_squared_error(labels, predictions)\n",
    "    rmse = np.sqrt(mse)\n",
    "    print(rmse)\n",
    "    \n",
    "def display_scores(scores):\n",
    "    print(\"Scores:\", scores)\n",
    "    print(f\"Mean: \\033[1m{scores.mean()}\\033[0m\", )\n",
    "    print(\"Standard deviation:\", scores.std())\n",
    "    print()\n",
    "    \n",
    "def cvs(model, data, labels):\n",
    "    scores = cross_val_score(model, data, labels, scoring=\"neg_mean_squared_error\", cv=10)\n",
    "    rmse_scores = np.sqrt(-scores)\n",
    "    return rmse_scores"
   ]
  },
  {
   "cell_type": "code",
   "execution_count": null,
   "metadata": {
    "tags": []
   },
   "outputs": [
    {
     "name": "stdout",
     "output_type": "stream",
     "text": [
      "lin_reg \u001b[1m42898.83710232035\u001b[0m 7217.7572571817645\n",
      "tree_reg \u001b[1m31982.876035284018\u001b[0m 5881.758115417958\n",
      "forest_reg \u001b[1m24752.477852952816\u001b[0m 6124.890665579672\n",
      "svm_reg \u001b[1m132709.4297504642\u001b[0m 15662.163297978508\n"
     ]
    }
   ],
   "source": [
    "models = []\n",
    "models.append(('lin_reg', LinearRegression()))\n",
    "models.append(('tree_reg', DecisionTreeRegressor(random_state=42)))\n",
    "models.append(('forest_reg', RandomForestRegressor(n_estimators=30, random_state=42)))\n",
    "models.append(('svm_reg', SVR()))\n",
    "models.append(('mlp_reg', MLPRegressor()))\n",
    "models.append(('xgb_reg', XGBRegressor()))\n",
    "models.append(('light_reg', LGBMRegressor()))\n",
    "models.append(('cat_reg', CatBoostRegressor(silent=True)))\n",
    "\n",
    "results = []\n",
    "names = []\n",
    "for name, model in models:\n",
    "    reg = model.fit(X_train_prepared, y_train)\n",
    "    scores = cvs(reg, X_train_prepared, y_train)\n",
    "    # display_scores(rmse_scores)\n",
    "    results.append(scores)\n",
    "    names.append(name)\n",
    "    print(f'{name} \\033[1m{scores.mean()}\\033[0m {scores.std()}')\n",
    "    \n",
    "fig = plt.figure()\n",
    "fig.suptitle('Algorithm Comparison')\n",
    "ax = fig.add_subplot(111)\n",
    "plt.boxplot(results)\n",
    "ax.set_xticklabels(names)\n",
    "plt.show()"
   ]
  },
  {
   "cell_type": "markdown",
   "metadata": {
    "tags": []
   },
   "source": [
    "### Grid search"
   ]
  },
  {
   "cell_type": "code",
   "execution_count": null,
   "metadata": {},
   "outputs": [],
   "source": [
    "n_estimators = [200, 400, 600, 800, 1000]\n",
    "learning_rate  = [0.01, 0.1, 0.2]\n",
    "\n",
    "param_grid = [\n",
    "    {'n_estimators': n_estimators, 'learning_rate': learning_rate},\n",
    "  ]\n",
    "\n",
    "regressor = LGBMRegressor(random_state=42)\n",
    "grid_search = GridSearchCV(regressor, param_grid, cv=5,\n",
    "                           scoring='neg_mean_squared_error',\n",
    "                           return_train_score=True)\n",
    "grid_search.fit(X_train_prepared, y_train)"
   ]
  },
  {
   "cell_type": "markdown",
   "metadata": {},
   "source": [
    "### Grid search results"
   ]
  },
  {
   "cell_type": "code",
   "execution_count": null,
   "metadata": {},
   "outputs": [],
   "source": [
    "print(grid_search.best_params_, np.sqrt(-grid_search.cv_results_['mean_test_score'].max()))\n",
    "print(grid_search.best_estimator_)"
   ]
  },
  {
   "cell_type": "code",
   "execution_count": null,
   "metadata": {
    "tags": []
   },
   "outputs": [],
   "source": [
    "cvres = grid_search.cv_results_\n",
    "result_df = pd.DataFrame(grid_search.cv_results_)\n",
    "result_df['mean_test_score'] = np.sqrt(-result_df['mean_test_score']).round(2)\n",
    "result_df['std_test_score'] = np.sqrt(result_df['std_test_score']).round(2)\n",
    "result_df.loc[:, [col for col in result_df if col.startswith('param')] + ['mean_test_score', 'std_test_score', 'rank_test_score']].sort_values('rank_test_score')"
   ]
  },
  {
   "cell_type": "markdown",
   "metadata": {},
   "source": [
    "### Feature importance"
   ]
  },
  {
   "cell_type": "code",
   "execution_count": null,
   "metadata": {},
   "outputs": [],
   "source": [
    "feature_importances = grid_search.best_estimator_.feature_importances_\n",
    "print('feature_importances', len(feature_importances))"
   ]
  },
  {
   "cell_type": "code",
   "execution_count": null,
   "metadata": {
    "tags": []
   },
   "outputs": [],
   "source": [
    "important_features = sorted(zip(feature_importances, preprocessed_df.transformed_attribs), reverse=True)\n",
    "important_features[:10]"
   ]
  },
  {
   "cell_type": "code",
   "execution_count": null,
   "metadata": {},
   "outputs": [],
   "source": [
    "df = pd.DataFrame(important_features, columns=[\"value\", \"feature\"])\n",
    "df[\"abs_value\"] = df[\"value\"].apply(lambda x: abs(x))\n",
    "df[\"colors\"] = df[\"value\"].apply(lambda x: \"green\" if x > 0 else \"red\")\n",
    "df = df.sort_values(\"abs_value\", ascending=False)\n",
    "\n",
    "fig, ax = plt.subplots(1, 1, figsize=(12, 7))\n",
    "sns.barplot(x=\"feature\",\n",
    "            y=\"value\",\n",
    "            data=df.head(20),\n",
    "           palette=df.head(20)[\"colors\"])\n",
    "ax.set_xticklabels(ax.get_xticklabels(), rotation=90, fontsize=20)\n",
    "ax.set_title(\"Top 20 Features\", fontsize=25)\n",
    "ax.set_ylabel(\"Coef\", fontsize=22)\n",
    "ax.set_xlabel(\"Feature Name\", fontsize=22)"
   ]
  },
  {
   "cell_type": "markdown",
   "metadata": {
    "tags": []
   },
   "source": [
    "## Test"
   ]
  },
  {
   "cell_type": "code",
   "execution_count": null,
   "metadata": {},
   "outputs": [],
   "source": [
    "final_model = grid_search.best_estimator_\n",
    "final_predictions = final_model.predict(X_test_prepared)\n",
    "\n",
    "final_mse = mean_squared_error(y_test, final_predictions)\n",
    "final_rmse = np.sqrt(final_mse)\n",
    "final_rmse"
   ]
  },
  {
   "cell_type": "markdown",
   "metadata": {},
   "source": [
    "### Ensemble"
   ]
  },
  {
   "cell_type": "code",
   "execution_count": null,
   "metadata": {},
   "outputs": [],
   "source": [
    "estimators = [\n",
    "    ('xgb_reg', XGBRegressor(n_estimators=30, n_jobs=-1)),\n",
    "    # ('light_reg', LGBMRegressor(n_jobs=-1)),\n",
    "    ('cat_reg', CatBoostRegressor(silent=True)),\n",
    "    ('rd_reg', RandomForestRegressor(n_estimators=30, random_state=42)),\n",
    "]\n",
    "reg = StackingRegressor(\n",
    "    estimators=estimators,\n",
    "    final_estimator=LinearRegression()\n",
    ")\n",
    "final_model = reg\n",
    "\n",
    "reg.fit_transform(X_train_prepared, y_train)\n",
    "final_predictions = reg.predict(X_test_prepared)\n",
    "final_mse = mean_squared_error(y_test, final_predictions)\n",
    "final_rmse = np.sqrt(final_mse)\n",
    "final_rmse"
   ]
  },
  {
   "cell_type": "markdown",
   "metadata": {},
   "source": [
    "## Submission"
   ]
  },
  {
   "cell_type": "code",
   "execution_count": null,
   "metadata": {},
   "outputs": [],
   "source": [
    "test_df = pd.read_csv(FOLDER + 'test.csv')\n",
    "\n",
    "test_prepared = preprocessed_df.transform_dataframe(test_df)\n",
    "test_prepared.loc[:, 'model'] = model_target_encoder.transform(test_prepared.pop('model'))\n",
    "test_prepared.loc[:, 'make'] = make_target_encoder.transform(test_prepared.pop('make'))\n",
    "test_prepared = imputer.transform(test_prepared)\n",
    "\n",
    "test_pred = final_model.predict(test_prepared)\n",
    "\n",
    "print('Test shape:', test_prepared.shape)\n",
    "print(\"Predictions:\", test_pred)"
   ]
  },
  {
   "cell_type": "code",
   "execution_count": null,
   "metadata": {},
   "outputs": [],
   "source": [
    "submission = pd.DataFrame()\n",
    "submission['Predicted'] = test_pred\n",
    "submission.reset_index(inplace=True)\n",
    "submission = submission.rename(columns = {'index':'Id'})\n",
    "submission.to_csv('submission.csv', index=False)\n",
    "display(submission.head(10))"
   ]
  },
  {
   "cell_type": "code",
   "execution_count": null,
   "metadata": {},
   "outputs": [],
   "source": []
  }
 ],
 "metadata": {
  "kernelspec": {
   "display_name": "Python 3 (ipykernel)",
   "language": "python",
   "name": "python3"
  },
  "language_info": {
   "codemirror_mode": {
    "name": "ipython",
    "version": 3
   },
   "file_extension": ".py",
   "mimetype": "text/x-python",
   "name": "python",
   "nbconvert_exporter": "python",
   "pygments_lexer": "ipython3",
   "version": "3.9.7"
  }
 },
 "nbformat": 4,
 "nbformat_minor": 4
}
